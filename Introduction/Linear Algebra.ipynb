{
 "cells": [
  {
   "cell_type": "markdown",
   "metadata": {},
   "source": [
    "# Linear Algebra\n",
    "This is a introduction to linear algebra in Julia by [Purbayan Chowdhury](https://github.com/shivishbrahma)\n",
    "\n",
    "See https://docs.julialang.org/en/v1/stdlib/LinearAlgebra/ for more"
   ]
  },
  {
   "cell_type": "code",
   "execution_count": 3,
   "metadata": {},
   "outputs": [],
   "source": [
    "using LinearAlgebra"
   ]
  },
  {
   "cell_type": "code",
   "execution_count": 4,
   "metadata": {
    "scrolled": true
   },
   "outputs": [
    {
     "data": {
      "text/plain": [
       "3×3 Array{Int64,2}:\n",
       " 4  5   9\n",
       " 7  2  10\n",
       " 6  4   3"
      ]
     },
     "execution_count": 4,
     "metadata": {},
     "output_type": "execute_result"
    }
   ],
   "source": [
    "# Initialise a Matrix\n",
    "A = [4 5 9; 7 2 10; 6 4 3]"
   ]
  },
  {
   "cell_type": "markdown",
   "metadata": {},
   "source": [
    "## Transpose of Matrix\n",
    "${\\displaystyle \\left[\\mathbf {A} ^{\\operatorname {T} }\\right]_{ij}=\\left[\\mathbf {A} \\right]_{ji}.}$"
   ]
  },
  {
   "cell_type": "code",
   "execution_count": 53,
   "metadata": {},
   "outputs": [
    {
     "data": {
      "text/plain": [
       "3×3 Transpose{Int64,Array{Int64,2}}:\n",
       " 4   7  6\n",
       " 5   2  4\n",
       " 9  10  3"
      ]
     },
     "execution_count": 53,
     "metadata": {},
     "output_type": "execute_result"
    }
   ],
   "source": [
    "transpose(A)"
   ]
  },
  {
   "cell_type": "markdown",
   "metadata": {},
   "source": [
    "## Trace of Matrix\n",
    "$ {\\displaystyle \\operatorname {tr} (\\mathbf {A} )=\\sum _{i=1}^{n}a_{ii}=a_{11}+a_{22}+\\dots +a_{nn}} $"
   ]
  },
  {
   "cell_type": "code",
   "execution_count": 5,
   "metadata": {},
   "outputs": [
    {
     "data": {
      "text/plain": [
       "9"
      ]
     },
     "execution_count": 5,
     "metadata": {},
     "output_type": "execute_result"
    }
   ],
   "source": [
    "tr(A)"
   ]
  },
  {
   "cell_type": "markdown",
   "metadata": {},
   "source": [
    "## Determinant of Matrix\n",
    "$ {\\displaystyle \\det(A)=\\sum _{\\sigma \\in S_{n}}\\left(\\operatorname {sgn}(\\sigma )\\prod _{i=1}^{n}a_{i,\\sigma _{i}}\\right).} $"
   ]
  },
  {
   "cell_type": "code",
   "execution_count": 9,
   "metadata": {},
   "outputs": [
    {
     "data": {
      "text/plain": [
       "203.0"
      ]
     },
     "execution_count": 9,
     "metadata": {},
     "output_type": "execute_result"
    }
   ],
   "source": [
    "det(A)"
   ]
  },
  {
   "cell_type": "code",
   "execution_count": 27,
   "metadata": {},
   "outputs": [
    {
     "data": {
      "text/plain": [
       "5.313205979041788"
      ]
     },
     "execution_count": 27,
     "metadata": {},
     "output_type": "execute_result"
    }
   ],
   "source": [
    "logdet(A)"
   ]
  },
  {
   "cell_type": "markdown",
   "metadata": {},
   "source": [
    "## Inverse of Matrix\n",
    "${\\displaystyle A^{-1}={\\frac {1}{\\det A}}\\operatorname {adj} A.}$"
   ]
  },
  {
   "cell_type": "code",
   "execution_count": 10,
   "metadata": {},
   "outputs": [
    {
     "data": {
      "text/plain": [
       "3×3 Array{Float64,2}:\n",
       " -0.167488    0.103448    0.157635\n",
       "  0.192118   -0.206897    0.1133  \n",
       "  0.0788177   0.0689655  -0.133005"
      ]
     },
     "execution_count": 10,
     "metadata": {},
     "output_type": "execute_result"
    }
   ],
   "source": [
    "inv(A)"
   ]
  },
  {
   "cell_type": "code",
   "execution_count": 11,
   "metadata": {},
   "outputs": [
    {
     "data": {
      "text/plain": [
       "4×4 Array{Int64,2}:\n",
       " 1  10   2   8\n",
       " 1   2  11  11\n",
       " 3  10  11  11\n",
       " 3   4   6   6"
      ]
     },
     "execution_count": 11,
     "metadata": {},
     "output_type": "execute_result"
    }
   ],
   "source": [
    "# Lets take a new matrix\n",
    "B = [1 10  2  8\n",
    "1  2 11 11\n",
    "3 10 11 11\n",
    "3  4  6  6]"
   ]
  },
  {
   "cell_type": "markdown",
   "metadata": {},
   "source": [
    "## Special Matrices\n",
    "- ### Symmetric\n",
    "${\\displaystyle A{\\text{ is symmetric}}\\iff A=A^{\\textsf {T}}.}$<br>\n",
    "${\\displaystyle A{\\text{ is symmetric}}\\iff {\\text{ for every }}i,j,\\quad a_{ji}=a_{ij}}$"
   ]
  },
  {
   "cell_type": "code",
   "execution_count": 12,
   "metadata": {},
   "outputs": [
    {
     "data": {
      "text/plain": [
       "4×4 Symmetric{Int64,Array{Int64,2}}:\n",
       "  1  10   2   8\n",
       " 10   2  11  11\n",
       "  2  11  11  11\n",
       "  8  11  11   6"
      ]
     },
     "execution_count": 12,
     "metadata": {},
     "output_type": "execute_result"
    }
   ],
   "source": [
    "# Symmetric\n",
    "sB = Symmetric(B)\n",
    "sB"
   ]
  },
  {
   "cell_type": "markdown",
   "metadata": {},
   "source": [
    "- ### Hermitian\n",
    "${\\displaystyle A{\\text{ Hermitian}}\\quad \\iff \\quad a_{ij}={\\overline {a_{ji}}}}$<br>\n",
    "${\\displaystyle A{\\text{ Hermitian}}\\quad \\iff \\quad A={\\overline {A^{\\mathsf {T}}}}={A^{H}}}$"
   ]
  },
  {
   "cell_type": "code",
   "execution_count": 13,
   "metadata": {},
   "outputs": [
    {
     "data": {
      "text/plain": [
       "4×4 Hermitian{Int64,Array{Int64,2}}:\n",
       "  1  10   2   8\n",
       " 10   2  11  11\n",
       "  2  11  11  11\n",
       "  8  11  11   6"
      ]
     },
     "execution_count": 13,
     "metadata": {},
     "output_type": "execute_result"
    }
   ],
   "source": [
    "# Hermitian\n",
    "hB = Hermitian(B)\n",
    "hB"
   ]
  },
  {
   "cell_type": "markdown",
   "metadata": {},
   "source": [
    "- ### Lower Triangular Matrix\n",
    "${\\displaystyle L={\\begin{bmatrix}\\ell _{1,1}&&&&0\\\\\\ell _{2,1}&\\ell _{2,2}&&&\\\\\\ell _{3,1}&\\ell _{3,2}&\\ddots &&\\\\\\vdots &\\vdots &\\ddots &\\ddots &\\\\\\ell _{n,1}&\\ell _{n,2}&\\ldots &\\ell _{n,n-1}&\\ell _{n,n}\\end{bmatrix}}}$"
   ]
  },
  {
   "cell_type": "code",
   "execution_count": 18,
   "metadata": {},
   "outputs": [
    {
     "data": {
      "text/plain": [
       "4×4 LowerTriangular{Int64,Array{Int64,2}}:\n",
       " 1   ⋅   ⋅  ⋅\n",
       " 1   2   ⋅  ⋅\n",
       " 3  10  11  ⋅\n",
       " 3   4   6  6"
      ]
     },
     "execution_count": 18,
     "metadata": {},
     "output_type": "execute_result"
    }
   ],
   "source": [
    "# Lower Triangular\n",
    "ltB = LowerTriangular(B)\n",
    "ltB"
   ]
  },
  {
   "cell_type": "code",
   "execution_count": 19,
   "metadata": {},
   "outputs": [
    {
     "data": {
      "text/plain": [
       "4×4 UnitLowerTriangular{Int64,Array{Int64,2}}:\n",
       " 1   ⋅  ⋅  ⋅\n",
       " 1   1  ⋅  ⋅\n",
       " 3  10  1  ⋅\n",
       " 3   4  6  1"
      ]
     },
     "execution_count": 19,
     "metadata": {},
     "output_type": "execute_result"
    }
   ],
   "source": [
    "# Unit Lower Triangular\n",
    "ltuB = UnitLowerTriangular(B)\n",
    "ltuB"
   ]
  },
  {
   "cell_type": "markdown",
   "metadata": {},
   "source": [
    "- ### Upper Triangular Matrix\n",
    "${\\displaystyle U={\\begin{bmatrix}u_{1,1}&u_{1,2}&u_{1,3}&\\ldots &u_{1,n}\\\\&u_{2,2}&u_{2,3}&\\ldots &u_{2,n}\\\\&&\\ddots &\\ddots &\\vdots \\\\&&&\\ddots &u_{n-1,n}\\\\0&&&&u_{n,n}\\end{bmatrix}}}$"
   ]
  },
  {
   "cell_type": "code",
   "execution_count": 20,
   "metadata": {},
   "outputs": [
    {
     "data": {
      "text/plain": [
       "4×4 UpperTriangular{Int64,Array{Int64,2}}:\n",
       " 1  10   2   8\n",
       " ⋅   2  11  11\n",
       " ⋅   ⋅  11  11\n",
       " ⋅   ⋅   ⋅   6"
      ]
     },
     "execution_count": 20,
     "metadata": {},
     "output_type": "execute_result"
    }
   ],
   "source": [
    "# Upper Triangular\n",
    "utB = UpperTriangular(B)\n",
    "utB"
   ]
  },
  {
   "cell_type": "code",
   "execution_count": 21,
   "metadata": {},
   "outputs": [
    {
     "data": {
      "text/plain": [
       "4×4 UnitUpperTriangular{Int64,Array{Int64,2}}:\n",
       " 1  10   2   8\n",
       " ⋅   1  11  11\n",
       " ⋅   ⋅   1  11\n",
       " ⋅   ⋅   ⋅   1"
      ]
     },
     "execution_count": 21,
     "metadata": {},
     "output_type": "execute_result"
    }
   ],
   "source": [
    "# Unit Upper Triangular\n",
    "utuB = UnitUpperTriangular(B)\n",
    "utuB"
   ]
  },
  {
   "cell_type": "code",
   "execution_count": 22,
   "metadata": {},
   "outputs": [
    {
     "data": {
      "text/plain": [
       "4×4 UpperHessenberg{Int64,Array{Int64,2}}:\n",
       " 1  10   2   8\n",
       " 1   2  11  11\n",
       " ⋅  10  11  11\n",
       " ⋅   ⋅   6   6"
      ]
     },
     "execution_count": 22,
     "metadata": {},
     "output_type": "execute_result"
    }
   ],
   "source": [
    "uhB = UpperHessenberg(B)\n",
    "uhB"
   ]
  },
  {
   "cell_type": "code",
   "execution_count": 24,
   "metadata": {},
   "outputs": [
    {
     "data": {
      "text/plain": [
       "4×4 SymTridiagonal{Int64,Array{Int64,1}}:\n",
       "  1  10   ⋅   ⋅\n",
       " 10   2  11   ⋅\n",
       "  ⋅  11  11  11\n",
       "  ⋅   ⋅  11   6"
      ]
     },
     "execution_count": 24,
     "metadata": {},
     "output_type": "execute_result"
    }
   ],
   "source": [
    "stdsB = SymTridiagonal(Symmetric(B))\n",
    "stdsB"
   ]
  },
  {
   "cell_type": "code",
   "execution_count": 25,
   "metadata": {},
   "outputs": [
    {
     "data": {
      "text/plain": [
       "4×4 Tridiagonal{Int64,Array{Int64,1}}:\n",
       " 1  10   ⋅   ⋅\n",
       " 1   2  11   ⋅\n",
       " ⋅  10  11  11\n",
       " ⋅   ⋅   6   6"
      ]
     },
     "execution_count": 25,
     "metadata": {},
     "output_type": "execute_result"
    }
   ],
   "source": [
    "tdB = Tridiagonal(B)\n",
    "tdB"
   ]
  },
  {
   "cell_type": "code",
   "execution_count": 33,
   "metadata": {},
   "outputs": [
    {
     "ename": "MethodError",
     "evalue": "MethodError: no method matching Bidiagonal(::Array{Int64,2})\nClosest candidates are:\n  Bidiagonal(::AbstractArray{T,2} where T, !Matched::Symbol) at /buildworker/worker/package_linux64/build/usr/share/julia/stdlib/v1.3/LinearAlgebra/src/bidiag.jl:102\n  Bidiagonal(!Matched::SymTridiagonal) at /buildworker/worker/package_linux64/build/usr/share/julia/stdlib/v1.3/LinearAlgebra/src/special.jl:29\n  Bidiagonal(!Matched::Tridiagonal) at /buildworker/worker/package_linux64/build/usr/share/julia/stdlib/v1.3/LinearAlgebra/src/special.jl:39\n  ...",
     "output_type": "error",
     "traceback": [
      "MethodError: no method matching Bidiagonal(::Array{Int64,2})\nClosest candidates are:\n  Bidiagonal(::AbstractArray{T,2} where T, !Matched::Symbol) at /buildworker/worker/package_linux64/build/usr/share/julia/stdlib/v1.3/LinearAlgebra/src/bidiag.jl:102\n  Bidiagonal(!Matched::SymTridiagonal) at /buildworker/worker/package_linux64/build/usr/share/julia/stdlib/v1.3/LinearAlgebra/src/special.jl:29\n  Bidiagonal(!Matched::Tridiagonal) at /buildworker/worker/package_linux64/build/usr/share/julia/stdlib/v1.3/LinearAlgebra/src/special.jl:39\n  ...",
      "",
      "Stacktrace:",
      " [1] top-level scope at In[33]:1"
     ]
    }
   ],
   "source": [
    "bdB = Bidiagonal(B)\n",
    "bdB"
   ]
  },
  {
   "cell_type": "code",
   "execution_count": 28,
   "metadata": {},
   "outputs": [
    {
     "data": {
      "text/plain": [
       "4×4 Diagonal{Int64,Array{Int64,1}}:\n",
       " 1  ⋅   ⋅  ⋅\n",
       " ⋅  2   ⋅  ⋅\n",
       " ⋅  ⋅  11  ⋅\n",
       " ⋅  ⋅   ⋅  6"
      ]
     },
     "execution_count": 28,
     "metadata": {},
     "output_type": "execute_result"
    }
   ],
   "source": [
    "dB = Diagonal(B)\n",
    "dB"
   ]
  },
  {
   "cell_type": "code",
   "execution_count": 37,
   "metadata": {},
   "outputs": [
    {
     "name": "stdout",
     "output_type": "stream",
     "text": [
      "UniformScaling{Int64}(4)[5 10 2 8; 1 6 11 11; 3 10 15 11; 3 4 6 10]"
     ]
    }
   ],
   "source": [
    "U = UniformScaling(4)\n",
    "print(U)\n",
    "print(B+U)"
   ]
  },
  {
   "cell_type": "code",
   "execution_count": 43,
   "metadata": {},
   "outputs": [
    {
     "data": {
      "text/plain": [
       "1×3 Array{Int64,2}:\n",
       " 12  5  7"
      ]
     },
     "execution_count": 43,
     "metadata": {},
     "output_type": "execute_result"
    }
   ],
   "source": [
    "# Let's take a system of linear equations\n",
    "coeff = [20 42 36\n",
    "32 22 39\n",
    "45 44 38]\n",
    "cons = [12 5 7]"
   ]
  },
  {
   "cell_type": "markdown",
   "metadata": {},
   "source": [
    "## Matrix Factorization\n",
    "### LU Decomposition"
   ]
  },
  {
   "cell_type": "code",
   "execution_count": 44,
   "metadata": {},
   "outputs": [
    {
     "data": {
      "text/plain": [
       "LU{Float64,Array{Float64,2}}\n",
       "L factor:\n",
       "3×3 Array{Float64,2}:\n",
       " 1.0        0.0       0.0\n",
       " 0.444444   1.0       0.0\n",
       " 0.711111  -0.413861  1.0\n",
       "U factor:\n",
       "3×3 Array{Float64,2}:\n",
       " 45.0  44.0     38.0   \n",
       "  0.0  22.4444  19.1111\n",
       "  0.0   0.0     19.8871"
      ]
     },
     "execution_count": 44,
     "metadata": {},
     "output_type": "execute_result"
    }
   ],
   "source": [
    "# LU Decompostion\n",
    "F = lu(coeff)"
   ]
  },
  {
   "cell_type": "code",
   "execution_count": 46,
   "metadata": {},
   "outputs": [
    {
     "data": {
      "text/plain": [
       "true"
      ]
     },
     "execution_count": 46,
     "metadata": {},
     "output_type": "execute_result"
    }
   ],
   "source": [
    "F.L * F.U == coeff[F.p, :]"
   ]
  },
  {
   "cell_type": "code",
   "execution_count": 49,
   "metadata": {},
   "outputs": [],
   "source": [
    "l, u, p = lu(coeff); # destructuring via iteration"
   ]
  },
  {
   "cell_type": "code",
   "execution_count": 50,
   "metadata": {},
   "outputs": [
    {
     "data": {
      "text/plain": [
       "true"
      ]
     },
     "execution_count": 50,
     "metadata": {},
     "output_type": "execute_result"
    }
   ],
   "source": [
    "l == F.L && u == F.U && p == F.p"
   ]
  },
  {
   "cell_type": "code",
   "execution_count": 59,
   "metadata": {},
   "outputs": [
    {
     "data": {
      "text/plain": [
       "3×1 Array{Float64,2}:\n",
       "  0.2821865976301902  \n",
       "  0.056706163496963106\n",
       " -0.08403863387434041 "
      ]
     },
     "execution_count": 59,
     "metadata": {},
     "output_type": "execute_result"
    }
   ],
   "source": [
    "# Solving linear equations using LU Decomposition or Dolittle's Algorithm\n",
    "inv(F.U)*(inv(F.L)*transpose(cons))"
   ]
  },
  {
   "cell_type": "code",
   "execution_count": null,
   "metadata": {},
   "outputs": [],
   "source": []
  }
 ],
 "metadata": {
  "kernelspec": {
   "display_name": "Julia 1.3.1",
   "language": "julia",
   "name": "julia-1.3"
  },
  "language_info": {
   "file_extension": ".jl",
   "mimetype": "application/julia",
   "name": "julia",
   "version": "1.3.1"
  }
 },
 "nbformat": 4,
 "nbformat_minor": 2
}
